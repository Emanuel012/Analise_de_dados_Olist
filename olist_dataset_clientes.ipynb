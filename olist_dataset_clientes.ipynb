{
 "cells": [
  {
   "cell_type": "code",
   "execution_count": 85,
   "id": "63b39918",
   "metadata": {},
   "outputs": [],
   "source": [
    "import pandas as pd\n",
    "import numpy as np\n",
    "import matplotlib as mpl\n",
    "import matplotlib.pyplot as plt\n",
    "import seaborn as sn\n",
    "import io"
   ]
  },
  {
   "cell_type": "code",
   "execution_count": 86,
   "id": "0bc18802",
   "metadata": {},
   "outputs": [],
   "source": [
    "df = pd.read_csv(r\"C:\\Users\\s145n\\Documents\\Mdoc\\D.A\\Brasil e-commerce dataset\\olist_customers_dataset_csv.csv\",sep=\";\") #comando utilizado pra leitura de arquivo .csv"
   ]
  },
  {
   "cell_type": "code",
   "execution_count": 87,
   "id": "14ded883",
   "metadata": {},
   "outputs": [
    {
     "data": {
      "text/plain": [
       "<bound method NDFrame.head of                             customer_id                customer_unique_id  \\\n",
       "0      06b8999e2fba1a1fbc88172c00ba8bc7  861eff4711a542e4b93843c6dd7febb0   \n",
       "1      18955e83d337fd6b2def6b18a428ac77  290c77bc529b7ac935b93aa66c333dc3   \n",
       "2      4e7b3e00288586ebd08712fdd0374a03  060e732b5b29e8181a18229c7b0b2b5e   \n",
       "3      b2b6027bc5c5109e529d4dc6358b12c3  259dac757896d24d7702b9acbbff3f3c   \n",
       "4      4f2d8ab171c80ec8364f7c12e35b23ad  345ecd01c38d18a9036ed96c73b8d066   \n",
       "...                                 ...                               ...   \n",
       "99436  17ddf5dd5d51696bb3d7c6291687be6f  1a29b476fee25c95fbafc67c5ac95cf8   \n",
       "99437  e7b71a9017aa05c9a7fd292d714858e8  d52a67c98be1cf6a5c84435bd38d095d   \n",
       "99438  5e28dfe12db7fb50a4b2f691faecea5e  e9f50caf99f032f0bf3c55141f019d99   \n",
       "99439  56b18e2166679b8a959d72dd06da27f9  73c2643a0a458b49f58cea58833b192e   \n",
       "99440  274fa6071e5e17fe303b9748641082c8  84732c5050c01db9b23e19ba39899398   \n",
       "\n",
       "       customer_zip_code_prefix          customer_city customer_state  \n",
       "0                         14409                 franca             SP  \n",
       "1                          9790  sao bernardo do campo             SP  \n",
       "2                          1151              sao paulo             SP  \n",
       "3                          8775        mogi das cruzes             SP  \n",
       "4                         13056               campinas             SP  \n",
       "...                         ...                    ...            ...  \n",
       "99436                      3937              sao paulo             SP  \n",
       "99437                      6764        taboao da serra             SP  \n",
       "99438                     60115              fortaleza             CE  \n",
       "99439                     92120                 canoas             RS  \n",
       "99440                      6703                  cotia             SP  \n",
       "\n",
       "[99441 rows x 5 columns]>"
      ]
     },
     "execution_count": 87,
     "metadata": {},
     "output_type": "execute_result"
    }
   ],
   "source": [
    "df.head # imprime os dados do cabeçalho"
   ]
  },
  {
   "cell_type": "code",
   "execution_count": 88,
   "id": "fae24638",
   "metadata": {},
   "outputs": [
    {
     "data": {
      "text/plain": [
       "RangeIndex(start=0, stop=99441, step=1)"
      ]
     },
     "execution_count": 88,
     "metadata": {},
     "output_type": "execute_result"
    }
   ],
   "source": [
    "df.index # imprime o indice que da nome aos itens da lista "
   ]
  },
  {
   "cell_type": "code",
   "execution_count": 89,
   "id": "365cf641",
   "metadata": {},
   "outputs": [
    {
     "data": {
      "text/plain": [
       "Index(['customer_id', 'customer_unique_id', 'customer_zip_code_prefix',\n",
       "       'customer_city', 'customer_state'],\n",
       "      dtype='object')"
      ]
     },
     "execution_count": 89,
     "metadata": {},
     "output_type": "execute_result"
    }
   ],
   "source": [
    "df.columns # mostra o rótulo ou nome das coluns do dataframe"
   ]
  },
  {
   "cell_type": "code",
   "execution_count": 90,
   "id": "2bb63aea",
   "metadata": {},
   "outputs": [
    {
     "data": {
      "text/plain": [
       "<bound method DataFrame.to_numpy of                             customer_id                customer_unique_id  \\\n",
       "0      06b8999e2fba1a1fbc88172c00ba8bc7  861eff4711a542e4b93843c6dd7febb0   \n",
       "1      18955e83d337fd6b2def6b18a428ac77  290c77bc529b7ac935b93aa66c333dc3   \n",
       "2      4e7b3e00288586ebd08712fdd0374a03  060e732b5b29e8181a18229c7b0b2b5e   \n",
       "3      b2b6027bc5c5109e529d4dc6358b12c3  259dac757896d24d7702b9acbbff3f3c   \n",
       "4      4f2d8ab171c80ec8364f7c12e35b23ad  345ecd01c38d18a9036ed96c73b8d066   \n",
       "...                                 ...                               ...   \n",
       "99436  17ddf5dd5d51696bb3d7c6291687be6f  1a29b476fee25c95fbafc67c5ac95cf8   \n",
       "99437  e7b71a9017aa05c9a7fd292d714858e8  d52a67c98be1cf6a5c84435bd38d095d   \n",
       "99438  5e28dfe12db7fb50a4b2f691faecea5e  e9f50caf99f032f0bf3c55141f019d99   \n",
       "99439  56b18e2166679b8a959d72dd06da27f9  73c2643a0a458b49f58cea58833b192e   \n",
       "99440  274fa6071e5e17fe303b9748641082c8  84732c5050c01db9b23e19ba39899398   \n",
       "\n",
       "       customer_zip_code_prefix          customer_city customer_state  \n",
       "0                         14409                 franca             SP  \n",
       "1                          9790  sao bernardo do campo             SP  \n",
       "2                          1151              sao paulo             SP  \n",
       "3                          8775        mogi das cruzes             SP  \n",
       "4                         13056               campinas             SP  \n",
       "...                         ...                    ...            ...  \n",
       "99436                      3937              sao paulo             SP  \n",
       "99437                      6764        taboao da serra             SP  \n",
       "99438                     60115              fortaleza             CE  \n",
       "99439                     92120                 canoas             RS  \n",
       "99440                      6703                  cotia             SP  \n",
       "\n",
       "[99441 rows x 5 columns]>"
      ]
     },
     "execution_count": 90,
     "metadata": {},
     "output_type": "execute_result"
    }
   ],
   "source": [
    "df.to_numpy #transforma o datafame em uma matriz numpy"
   ]
  },
  {
   "cell_type": "code",
   "execution_count": 99,
   "id": "55616f9a",
   "metadata": {},
   "outputs": [
    {
     "data": {
      "text/html": [
       "<div>\n",
       "<style scoped>\n",
       "    .dataframe tbody tr th:only-of-type {\n",
       "        vertical-align: middle;\n",
       "    }\n",
       "\n",
       "    .dataframe tbody tr th {\n",
       "        vertical-align: top;\n",
       "    }\n",
       "\n",
       "    .dataframe thead th {\n",
       "        text-align: right;\n",
       "    }\n",
       "</style>\n",
       "<table border=\"1\" class=\"dataframe\">\n",
       "  <thead>\n",
       "    <tr style=\"text-align: right;\">\n",
       "      <th></th>\n",
       "      <th>customer_zip_code_prefix</th>\n",
       "    </tr>\n",
       "  </thead>\n",
       "  <tbody>\n",
       "    <tr>\n",
       "      <th>count</th>\n",
       "      <td>99441.000000</td>\n",
       "    </tr>\n",
       "    <tr>\n",
       "      <th>mean</th>\n",
       "      <td>35137.474583</td>\n",
       "    </tr>\n",
       "    <tr>\n",
       "      <th>std</th>\n",
       "      <td>29797.938996</td>\n",
       "    </tr>\n",
       "    <tr>\n",
       "      <th>min</th>\n",
       "      <td>1003.000000</td>\n",
       "    </tr>\n",
       "    <tr>\n",
       "      <th>25%</th>\n",
       "      <td>11347.000000</td>\n",
       "    </tr>\n",
       "    <tr>\n",
       "      <th>50%</th>\n",
       "      <td>24416.000000</td>\n",
       "    </tr>\n",
       "    <tr>\n",
       "      <th>75%</th>\n",
       "      <td>58900.000000</td>\n",
       "    </tr>\n",
       "    <tr>\n",
       "      <th>max</th>\n",
       "      <td>99990.000000</td>\n",
       "    </tr>\n",
       "  </tbody>\n",
       "</table>\n",
       "</div>"
      ],
      "text/plain": [
       "       customer_zip_code_prefix\n",
       "count              99441.000000\n",
       "mean               35137.474583\n",
       "std                29797.938996\n",
       "min                 1003.000000\n",
       "25%                11347.000000\n",
       "50%                24416.000000\n",
       "75%                58900.000000\n",
       "max                99990.000000"
      ]
     },
     "execution_count": 99,
     "metadata": {},
     "output_type": "execute_result"
    }
   ],
   "source": [
    "df.describe() # imprime estatisticas descritivas "
   ]
  },
  {
   "cell_type": "code",
   "execution_count": 92,
   "id": "ddae6e66",
   "metadata": {
    "scrolled": true
   },
   "outputs": [
    {
     "data": {
      "text/plain": [
       "array([['06b8999e2fba1a1fbc88172c00ba8bc7',\n",
       "        '861eff4711a542e4b93843c6dd7febb0', 14409, 'franca', 'SP'],\n",
       "       ['18955e83d337fd6b2def6b18a428ac77',\n",
       "        '290c77bc529b7ac935b93aa66c333dc3', 9790,\n",
       "        'sao bernardo do campo', 'SP'],\n",
       "       ['4e7b3e00288586ebd08712fdd0374a03',\n",
       "        '060e732b5b29e8181a18229c7b0b2b5e', 1151, 'sao paulo', 'SP'],\n",
       "       ...,\n",
       "       ['5e28dfe12db7fb50a4b2f691faecea5e',\n",
       "        'e9f50caf99f032f0bf3c55141f019d99', 60115, 'fortaleza', 'CE'],\n",
       "       ['56b18e2166679b8a959d72dd06da27f9',\n",
       "        '73c2643a0a458b49f58cea58833b192e', 92120, 'canoas', 'RS'],\n",
       "       ['274fa6071e5e17fe303b9748641082c8',\n",
       "        '84732c5050c01db9b23e19ba39899398', 6703, 'cotia', 'SP']],\n",
       "      dtype=object)"
      ]
     },
     "execution_count": 92,
     "metadata": {},
     "output_type": "execute_result"
    }
   ],
   "source": [
    "df.to_numpy() #imprime os dados do df em forma de vetores"
   ]
  },
  {
   "cell_type": "code",
   "execution_count": 100,
   "id": "87050266",
   "metadata": {},
   "outputs": [
    {
     "data": {
      "text/html": [
       "<div>\n",
       "<style scoped>\n",
       "    .dataframe tbody tr th:only-of-type {\n",
       "        vertical-align: middle;\n",
       "    }\n",
       "\n",
       "    .dataframe tbody tr th {\n",
       "        vertical-align: top;\n",
       "    }\n",
       "\n",
       "    .dataframe thead th {\n",
       "        text-align: right;\n",
       "    }\n",
       "</style>\n",
       "<table border=\"1\" class=\"dataframe\">\n",
       "  <thead>\n",
       "    <tr style=\"text-align: right;\">\n",
       "      <th></th>\n",
       "      <th>0</th>\n",
       "      <th>1</th>\n",
       "      <th>2</th>\n",
       "      <th>3</th>\n",
       "      <th>4</th>\n",
       "      <th>5</th>\n",
       "      <th>6</th>\n",
       "      <th>7</th>\n",
       "      <th>8</th>\n",
       "      <th>9</th>\n",
       "      <th>...</th>\n",
       "      <th>99431</th>\n",
       "      <th>99432</th>\n",
       "      <th>99433</th>\n",
       "      <th>99434</th>\n",
       "      <th>99435</th>\n",
       "      <th>99436</th>\n",
       "      <th>99437</th>\n",
       "      <th>99438</th>\n",
       "      <th>99439</th>\n",
       "      <th>99440</th>\n",
       "    </tr>\n",
       "  </thead>\n",
       "  <tbody>\n",
       "    <tr>\n",
       "      <th>customer_id</th>\n",
       "      <td>06b8999e2fba1a1fbc88172c00ba8bc7</td>\n",
       "      <td>18955e83d337fd6b2def6b18a428ac77</td>\n",
       "      <td>4e7b3e00288586ebd08712fdd0374a03</td>\n",
       "      <td>b2b6027bc5c5109e529d4dc6358b12c3</td>\n",
       "      <td>4f2d8ab171c80ec8364f7c12e35b23ad</td>\n",
       "      <td>879864dab9bc3047522c92c82e1212b8</td>\n",
       "      <td>fd826e7cf63160e536e0908c76c3f441</td>\n",
       "      <td>5e274e7a0c3809e14aba7ad5aae0d407</td>\n",
       "      <td>5adf08e34b2e993982a47070956c5c65</td>\n",
       "      <td>4b7139f34592b3a31687243a302fa75b</td>\n",
       "      <td>...</td>\n",
       "      <td>be842c57a8c5a62e9585dd72f22b6338</td>\n",
       "      <td>f255d679c7c86c24ef4861320d5b7675</td>\n",
       "      <td>14308d2303a3e2bdf4939b86c46d2679</td>\n",
       "      <td>f5a0b560f9e9427792a88bec97710212</td>\n",
       "      <td>7fe2e80252a9ea476f950ae8f85b0f8f</td>\n",
       "      <td>17ddf5dd5d51696bb3d7c6291687be6f</td>\n",
       "      <td>e7b71a9017aa05c9a7fd292d714858e8</td>\n",
       "      <td>5e28dfe12db7fb50a4b2f691faecea5e</td>\n",
       "      <td>56b18e2166679b8a959d72dd06da27f9</td>\n",
       "      <td>274fa6071e5e17fe303b9748641082c8</td>\n",
       "    </tr>\n",
       "    <tr>\n",
       "      <th>customer_unique_id</th>\n",
       "      <td>861eff4711a542e4b93843c6dd7febb0</td>\n",
       "      <td>290c77bc529b7ac935b93aa66c333dc3</td>\n",
       "      <td>060e732b5b29e8181a18229c7b0b2b5e</td>\n",
       "      <td>259dac757896d24d7702b9acbbff3f3c</td>\n",
       "      <td>345ecd01c38d18a9036ed96c73b8d066</td>\n",
       "      <td>4c93744516667ad3b8f1fb645a3116a4</td>\n",
       "      <td>addec96d2e059c80c30fe6871d30d177</td>\n",
       "      <td>57b2a98a409812fe9618067b6b8ebe4f</td>\n",
       "      <td>1175e95fb47ddff9de6b2b06188f7e0d</td>\n",
       "      <td>9afe194fb833f79e300e37e580171f22</td>\n",
       "      <td>...</td>\n",
       "      <td>ca186065de6e2d01cfc99763e6d62048</td>\n",
       "      <td>d111b06b6f3a2add0d2241325f65b5ca</td>\n",
       "      <td>e7f8760e2bbd2f1986bebd99596c088e</td>\n",
       "      <td>b3e53d18a997f27a3ffd16da497eaf58</td>\n",
       "      <td>4b5820135d360a45552b5163835b1d89</td>\n",
       "      <td>1a29b476fee25c95fbafc67c5ac95cf8</td>\n",
       "      <td>d52a67c98be1cf6a5c84435bd38d095d</td>\n",
       "      <td>e9f50caf99f032f0bf3c55141f019d99</td>\n",
       "      <td>73c2643a0a458b49f58cea58833b192e</td>\n",
       "      <td>84732c5050c01db9b23e19ba39899398</td>\n",
       "    </tr>\n",
       "    <tr>\n",
       "      <th>customer_zip_code_prefix</th>\n",
       "      <td>14409</td>\n",
       "      <td>9790</td>\n",
       "      <td>1151</td>\n",
       "      <td>8775</td>\n",
       "      <td>13056</td>\n",
       "      <td>89254</td>\n",
       "      <td>4534</td>\n",
       "      <td>35182</td>\n",
       "      <td>81560</td>\n",
       "      <td>30575</td>\n",
       "      <td>...</td>\n",
       "      <td>99150</td>\n",
       "      <td>13500</td>\n",
       "      <td>66033</td>\n",
       "      <td>7790</td>\n",
       "      <td>35500</td>\n",
       "      <td>3937</td>\n",
       "      <td>6764</td>\n",
       "      <td>60115</td>\n",
       "      <td>92120</td>\n",
       "      <td>6703</td>\n",
       "    </tr>\n",
       "    <tr>\n",
       "      <th>customer_city</th>\n",
       "      <td>franca</td>\n",
       "      <td>sao bernardo do campo</td>\n",
       "      <td>sao paulo</td>\n",
       "      <td>mogi das cruzes</td>\n",
       "      <td>campinas</td>\n",
       "      <td>jaragua do sul</td>\n",
       "      <td>sao paulo</td>\n",
       "      <td>timoteo</td>\n",
       "      <td>curitiba</td>\n",
       "      <td>belo horizonte</td>\n",
       "      <td>...</td>\n",
       "      <td>marau</td>\n",
       "      <td>rio claro</td>\n",
       "      <td>belem</td>\n",
       "      <td>cajamar</td>\n",
       "      <td>divinopolis</td>\n",
       "      <td>sao paulo</td>\n",
       "      <td>taboao da serra</td>\n",
       "      <td>fortaleza</td>\n",
       "      <td>canoas</td>\n",
       "      <td>cotia</td>\n",
       "    </tr>\n",
       "    <tr>\n",
       "      <th>customer_state</th>\n",
       "      <td>SP</td>\n",
       "      <td>SP</td>\n",
       "      <td>SP</td>\n",
       "      <td>SP</td>\n",
       "      <td>SP</td>\n",
       "      <td>SC</td>\n",
       "      <td>SP</td>\n",
       "      <td>MG</td>\n",
       "      <td>PR</td>\n",
       "      <td>MG</td>\n",
       "      <td>...</td>\n",
       "      <td>RS</td>\n",
       "      <td>SP</td>\n",
       "      <td>PA</td>\n",
       "      <td>SP</td>\n",
       "      <td>MG</td>\n",
       "      <td>SP</td>\n",
       "      <td>SP</td>\n",
       "      <td>CE</td>\n",
       "      <td>RS</td>\n",
       "      <td>SP</td>\n",
       "    </tr>\n",
       "  </tbody>\n",
       "</table>\n",
       "<p>5 rows × 99441 columns</p>\n",
       "</div>"
      ],
      "text/plain": [
       "                                                     0      \\\n",
       "customer_id               06b8999e2fba1a1fbc88172c00ba8bc7   \n",
       "customer_unique_id        861eff4711a542e4b93843c6dd7febb0   \n",
       "customer_zip_code_prefix                             14409   \n",
       "customer_city                                       franca   \n",
       "customer_state                                          SP   \n",
       "\n",
       "                                                     1      \\\n",
       "customer_id               18955e83d337fd6b2def6b18a428ac77   \n",
       "customer_unique_id        290c77bc529b7ac935b93aa66c333dc3   \n",
       "customer_zip_code_prefix                              9790   \n",
       "customer_city                        sao bernardo do campo   \n",
       "customer_state                                          SP   \n",
       "\n",
       "                                                     2      \\\n",
       "customer_id               4e7b3e00288586ebd08712fdd0374a03   \n",
       "customer_unique_id        060e732b5b29e8181a18229c7b0b2b5e   \n",
       "customer_zip_code_prefix                              1151   \n",
       "customer_city                                    sao paulo   \n",
       "customer_state                                          SP   \n",
       "\n",
       "                                                     3      \\\n",
       "customer_id               b2b6027bc5c5109e529d4dc6358b12c3   \n",
       "customer_unique_id        259dac757896d24d7702b9acbbff3f3c   \n",
       "customer_zip_code_prefix                              8775   \n",
       "customer_city                              mogi das cruzes   \n",
       "customer_state                                          SP   \n",
       "\n",
       "                                                     4      \\\n",
       "customer_id               4f2d8ab171c80ec8364f7c12e35b23ad   \n",
       "customer_unique_id        345ecd01c38d18a9036ed96c73b8d066   \n",
       "customer_zip_code_prefix                             13056   \n",
       "customer_city                                     campinas   \n",
       "customer_state                                          SP   \n",
       "\n",
       "                                                     5      \\\n",
       "customer_id               879864dab9bc3047522c92c82e1212b8   \n",
       "customer_unique_id        4c93744516667ad3b8f1fb645a3116a4   \n",
       "customer_zip_code_prefix                             89254   \n",
       "customer_city                               jaragua do sul   \n",
       "customer_state                                          SC   \n",
       "\n",
       "                                                     6      \\\n",
       "customer_id               fd826e7cf63160e536e0908c76c3f441   \n",
       "customer_unique_id        addec96d2e059c80c30fe6871d30d177   \n",
       "customer_zip_code_prefix                              4534   \n",
       "customer_city                                    sao paulo   \n",
       "customer_state                                          SP   \n",
       "\n",
       "                                                     7      \\\n",
       "customer_id               5e274e7a0c3809e14aba7ad5aae0d407   \n",
       "customer_unique_id        57b2a98a409812fe9618067b6b8ebe4f   \n",
       "customer_zip_code_prefix                             35182   \n",
       "customer_city                                      timoteo   \n",
       "customer_state                                          MG   \n",
       "\n",
       "                                                     8      \\\n",
       "customer_id               5adf08e34b2e993982a47070956c5c65   \n",
       "customer_unique_id        1175e95fb47ddff9de6b2b06188f7e0d   \n",
       "customer_zip_code_prefix                             81560   \n",
       "customer_city                                     curitiba   \n",
       "customer_state                                          PR   \n",
       "\n",
       "                                                     9      ...  \\\n",
       "customer_id               4b7139f34592b3a31687243a302fa75b  ...   \n",
       "customer_unique_id        9afe194fb833f79e300e37e580171f22  ...   \n",
       "customer_zip_code_prefix                             30575  ...   \n",
       "customer_city                               belo horizonte  ...   \n",
       "customer_state                                          MG  ...   \n",
       "\n",
       "                                                     99431  \\\n",
       "customer_id               be842c57a8c5a62e9585dd72f22b6338   \n",
       "customer_unique_id        ca186065de6e2d01cfc99763e6d62048   \n",
       "customer_zip_code_prefix                             99150   \n",
       "customer_city                                        marau   \n",
       "customer_state                                          RS   \n",
       "\n",
       "                                                     99432  \\\n",
       "customer_id               f255d679c7c86c24ef4861320d5b7675   \n",
       "customer_unique_id        d111b06b6f3a2add0d2241325f65b5ca   \n",
       "customer_zip_code_prefix                             13500   \n",
       "customer_city                                    rio claro   \n",
       "customer_state                                          SP   \n",
       "\n",
       "                                                     99433  \\\n",
       "customer_id               14308d2303a3e2bdf4939b86c46d2679   \n",
       "customer_unique_id        e7f8760e2bbd2f1986bebd99596c088e   \n",
       "customer_zip_code_prefix                             66033   \n",
       "customer_city                                        belem   \n",
       "customer_state                                          PA   \n",
       "\n",
       "                                                     99434  \\\n",
       "customer_id               f5a0b560f9e9427792a88bec97710212   \n",
       "customer_unique_id        b3e53d18a997f27a3ffd16da497eaf58   \n",
       "customer_zip_code_prefix                              7790   \n",
       "customer_city                                      cajamar   \n",
       "customer_state                                          SP   \n",
       "\n",
       "                                                     99435  \\\n",
       "customer_id               7fe2e80252a9ea476f950ae8f85b0f8f   \n",
       "customer_unique_id        4b5820135d360a45552b5163835b1d89   \n",
       "customer_zip_code_prefix                             35500   \n",
       "customer_city                                  divinopolis   \n",
       "customer_state                                          MG   \n",
       "\n",
       "                                                     99436  \\\n",
       "customer_id               17ddf5dd5d51696bb3d7c6291687be6f   \n",
       "customer_unique_id        1a29b476fee25c95fbafc67c5ac95cf8   \n",
       "customer_zip_code_prefix                              3937   \n",
       "customer_city                                    sao paulo   \n",
       "customer_state                                          SP   \n",
       "\n",
       "                                                     99437  \\\n",
       "customer_id               e7b71a9017aa05c9a7fd292d714858e8   \n",
       "customer_unique_id        d52a67c98be1cf6a5c84435bd38d095d   \n",
       "customer_zip_code_prefix                              6764   \n",
       "customer_city                              taboao da serra   \n",
       "customer_state                                          SP   \n",
       "\n",
       "                                                     99438  \\\n",
       "customer_id               5e28dfe12db7fb50a4b2f691faecea5e   \n",
       "customer_unique_id        e9f50caf99f032f0bf3c55141f019d99   \n",
       "customer_zip_code_prefix                             60115   \n",
       "customer_city                                    fortaleza   \n",
       "customer_state                                          CE   \n",
       "\n",
       "                                                     99439  \\\n",
       "customer_id               56b18e2166679b8a959d72dd06da27f9   \n",
       "customer_unique_id        73c2643a0a458b49f58cea58833b192e   \n",
       "customer_zip_code_prefix                             92120   \n",
       "customer_city                                       canoas   \n",
       "customer_state                                          RS   \n",
       "\n",
       "                                                     99440  \n",
       "customer_id               274fa6071e5e17fe303b9748641082c8  \n",
       "customer_unique_id        84732c5050c01db9b23e19ba39899398  \n",
       "customer_zip_code_prefix                              6703  \n",
       "customer_city                                        cotia  \n",
       "customer_state                                          SP  \n",
       "\n",
       "[5 rows x 99441 columns]"
      ]
     },
     "execution_count": 100,
     "metadata": {},
     "output_type": "execute_result"
    }
   ],
   "source": [
    "df.T # organiza o que era somente indice em coluna"
   ]
  },
  {
   "cell_type": "code",
   "execution_count": 101,
   "id": "61ab4395",
   "metadata": {},
   "outputs": [
    {
     "data": {
      "text/plain": [
       "customer_id                 object\n",
       "customer_unique_id          object\n",
       "customer_zip_code_prefix     int64\n",
       "customer_city               object\n",
       "customer_state              object\n",
       "dtype: object"
      ]
     },
     "execution_count": 101,
     "metadata": {},
     "output_type": "execute_result"
    }
   ],
   "source": [
    "df.dtypes  # imprime o tipo de dados que o df possui"
   ]
  },
  {
   "cell_type": "code",
   "execution_count": 103,
   "id": "6d85e813",
   "metadata": {
    "scrolled": true
   },
   "outputs": [
    {
     "data": {
      "text/plain": [
       "(99441, 5)"
      ]
     },
     "execution_count": 103,
     "metadata": {},
     "output_type": "execute_result"
    }
   ],
   "source": [
    "df.shape #imprime as dimensões do df, no caso são 99441 linhas e 5 colunas"
   ]
  },
  {
   "cell_type": "code",
   "execution_count": 104,
   "id": "492de256",
   "metadata": {
    "scrolled": true
   },
   "outputs": [
    {
     "data": {
      "text/html": [
       "<div>\n",
       "<style scoped>\n",
       "    .dataframe tbody tr th:only-of-type {\n",
       "        vertical-align: middle;\n",
       "    }\n",
       "\n",
       "    .dataframe tbody tr th {\n",
       "        vertical-align: top;\n",
       "    }\n",
       "\n",
       "    .dataframe thead th {\n",
       "        text-align: right;\n",
       "    }\n",
       "</style>\n",
       "<table border=\"1\" class=\"dataframe\">\n",
       "  <thead>\n",
       "    <tr style=\"text-align: right;\">\n",
       "      <th></th>\n",
       "      <th>customer_id</th>\n",
       "      <th>customer_unique_id</th>\n",
       "      <th>customer_zip_code_prefix</th>\n",
       "      <th>customer_city</th>\n",
       "      <th>customer_state</th>\n",
       "    </tr>\n",
       "  </thead>\n",
       "  <tbody>\n",
       "    <tr>\n",
       "      <th>0</th>\n",
       "      <td>06b8999e2fba1a1fbc88172c00ba8bc7</td>\n",
       "      <td>861eff4711a542e4b93843c6dd7febb0</td>\n",
       "      <td>14409</td>\n",
       "      <td>franca</td>\n",
       "      <td>SP</td>\n",
       "    </tr>\n",
       "    <tr>\n",
       "      <th>1</th>\n",
       "      <td>18955e83d337fd6b2def6b18a428ac77</td>\n",
       "      <td>290c77bc529b7ac935b93aa66c333dc3</td>\n",
       "      <td>9790</td>\n",
       "      <td>sao bernardo do campo</td>\n",
       "      <td>SP</td>\n",
       "    </tr>\n",
       "    <tr>\n",
       "      <th>2</th>\n",
       "      <td>4e7b3e00288586ebd08712fdd0374a03</td>\n",
       "      <td>060e732b5b29e8181a18229c7b0b2b5e</td>\n",
       "      <td>1151</td>\n",
       "      <td>sao paulo</td>\n",
       "      <td>SP</td>\n",
       "    </tr>\n",
       "    <tr>\n",
       "      <th>3</th>\n",
       "      <td>b2b6027bc5c5109e529d4dc6358b12c3</td>\n",
       "      <td>259dac757896d24d7702b9acbbff3f3c</td>\n",
       "      <td>8775</td>\n",
       "      <td>mogi das cruzes</td>\n",
       "      <td>SP</td>\n",
       "    </tr>\n",
       "    <tr>\n",
       "      <th>4</th>\n",
       "      <td>4f2d8ab171c80ec8364f7c12e35b23ad</td>\n",
       "      <td>345ecd01c38d18a9036ed96c73b8d066</td>\n",
       "      <td>13056</td>\n",
       "      <td>campinas</td>\n",
       "      <td>SP</td>\n",
       "    </tr>\n",
       "  </tbody>\n",
       "</table>\n",
       "</div>"
      ],
      "text/plain": [
       "                        customer_id                customer_unique_id  \\\n",
       "0  06b8999e2fba1a1fbc88172c00ba8bc7  861eff4711a542e4b93843c6dd7febb0   \n",
       "1  18955e83d337fd6b2def6b18a428ac77  290c77bc529b7ac935b93aa66c333dc3   \n",
       "2  4e7b3e00288586ebd08712fdd0374a03  060e732b5b29e8181a18229c7b0b2b5e   \n",
       "3  b2b6027bc5c5109e529d4dc6358b12c3  259dac757896d24d7702b9acbbff3f3c   \n",
       "4  4f2d8ab171c80ec8364f7c12e35b23ad  345ecd01c38d18a9036ed96c73b8d066   \n",
       "\n",
       "   customer_zip_code_prefix          customer_city customer_state  \n",
       "0                     14409                 franca             SP  \n",
       "1                      9790  sao bernardo do campo             SP  \n",
       "2                      1151              sao paulo             SP  \n",
       "3                      8775        mogi das cruzes             SP  \n",
       "4                     13056               campinas             SP  "
      ]
     },
     "execution_count": 104,
     "metadata": {},
     "output_type": "execute_result"
    }
   ],
   "source": [
    "df.head() # imprime o cabeçalho ou os 5 primeirio elementos "
   ]
  },
  {
   "cell_type": "code",
   "execution_count": 106,
   "id": "65303ab6",
   "metadata": {},
   "outputs": [
    {
     "data": {
      "text/plain": [
       "customer_id                 0\n",
       "customer_unique_id          0\n",
       "customer_zip_code_prefix    0\n",
       "customer_city               0\n",
       "customer_state              0\n",
       "dtype: int64"
      ]
     },
     "execution_count": 106,
     "metadata": {},
     "output_type": "execute_result"
    }
   ],
   "source": [
    "df.isnull().sum() ##procura valores nulos "
   ]
  },
  {
   "cell_type": "code",
   "execution_count": 107,
   "id": "d92ba5b7",
   "metadata": {},
   "outputs": [
    {
     "data": {
      "text/plain": [
       "0                       franca\n",
       "1        sao bernardo do campo\n",
       "2                    sao paulo\n",
       "3              mogi das cruzes\n",
       "4                     campinas\n",
       "                 ...          \n",
       "99436                sao paulo\n",
       "99437          taboao da serra\n",
       "99438                fortaleza\n",
       "99439                   canoas\n",
       "99440                    cotia\n",
       "Name: customer_city, Length: 99441, dtype: object"
      ]
     },
     "execution_count": 107,
     "metadata": {},
     "output_type": "execute_result"
    }
   ],
   "source": [
    "df.customer_city # imprime todos os dados dos consumidores e suas respectivas cidades "
   ]
  },
  {
   "cell_type": "code",
   "execution_count": 112,
   "id": "880e9a9c",
   "metadata": {},
   "outputs": [
    {
     "data": {
      "text/plain": [
       "0        SP\n",
       "1        SP\n",
       "2        SP\n",
       "3        SP\n",
       "4        SP\n",
       "         ..\n",
       "99436    SP\n",
       "99437    SP\n",
       "99438    CE\n",
       "99439    RS\n",
       "99440    SP\n",
       "Name: customer_state, Length: 99441, dtype: object"
      ]
     },
     "execution_count": 112,
     "metadata": {},
     "output_type": "execute_result"
    }
   ],
   "source": [
    "df.customer_state # imprime todos os dados a respeito do estado de cada consumidor "
   ]
  },
  {
   "cell_type": "code",
   "execution_count": 113,
   "id": "01305dd7",
   "metadata": {},
   "outputs": [
    {
     "data": {
      "text/plain": [
       "'zortea'"
      ]
     },
     "execution_count": 113,
     "metadata": {},
     "output_type": "execute_result"
    }
   ],
   "source": [
    "df.customer_city.max() # imprime a cidade que mais compra online dentre asa presentes no dataset. Nesse caso foi a cidade de Zortea em santa catarina"
   ]
  },
  {
   "cell_type": "code",
   "execution_count": 115,
   "id": "15a6268c",
   "metadata": {},
   "outputs": [
    {
     "data": {
      "text/plain": [
       "'TO'"
      ]
     },
     "execution_count": 115,
     "metadata": {},
     "output_type": "execute_result"
    }
   ],
   "source": [
    "df.customer_state.max() # imprimiu o estado que mais comprou como sendo o estado do Tocantins"
   ]
  },
  {
   "cell_type": "code",
   "execution_count": 125,
   "id": "24a680a8",
   "metadata": {},
   "outputs": [
    {
     "data": {
      "text/html": [
       "<div>\n",
       "<style scoped>\n",
       "    .dataframe tbody tr th:only-of-type {\n",
       "        vertical-align: middle;\n",
       "    }\n",
       "\n",
       "    .dataframe tbody tr th {\n",
       "        vertical-align: top;\n",
       "    }\n",
       "\n",
       "    .dataframe thead th {\n",
       "        text-align: right;\n",
       "    }\n",
       "</style>\n",
       "<table border=\"1\" class=\"dataframe\">\n",
       "  <thead>\n",
       "    <tr style=\"text-align: right;\">\n",
       "      <th></th>\n",
       "      <th>customer_city</th>\n",
       "      <th>customer_state</th>\n",
       "    </tr>\n",
       "  </thead>\n",
       "  <tbody>\n",
       "    <tr>\n",
       "      <th>0</th>\n",
       "      <td>franca</td>\n",
       "      <td>SP</td>\n",
       "    </tr>\n",
       "    <tr>\n",
       "      <th>1</th>\n",
       "      <td>sao bernardo do campo</td>\n",
       "      <td>SP</td>\n",
       "    </tr>\n",
       "    <tr>\n",
       "      <th>2</th>\n",
       "      <td>sao paulo</td>\n",
       "      <td>SP</td>\n",
       "    </tr>\n",
       "    <tr>\n",
       "      <th>3</th>\n",
       "      <td>mogi das cruzes</td>\n",
       "      <td>SP</td>\n",
       "    </tr>\n",
       "    <tr>\n",
       "      <th>4</th>\n",
       "      <td>campinas</td>\n",
       "      <td>SP</td>\n",
       "    </tr>\n",
       "    <tr>\n",
       "      <th>...</th>\n",
       "      <td>...</td>\n",
       "      <td>...</td>\n",
       "    </tr>\n",
       "    <tr>\n",
       "      <th>99436</th>\n",
       "      <td>sao paulo</td>\n",
       "      <td>SP</td>\n",
       "    </tr>\n",
       "    <tr>\n",
       "      <th>99437</th>\n",
       "      <td>taboao da serra</td>\n",
       "      <td>SP</td>\n",
       "    </tr>\n",
       "    <tr>\n",
       "      <th>99438</th>\n",
       "      <td>fortaleza</td>\n",
       "      <td>CE</td>\n",
       "    </tr>\n",
       "    <tr>\n",
       "      <th>99439</th>\n",
       "      <td>canoas</td>\n",
       "      <td>RS</td>\n",
       "    </tr>\n",
       "    <tr>\n",
       "      <th>99440</th>\n",
       "      <td>cotia</td>\n",
       "      <td>SP</td>\n",
       "    </tr>\n",
       "  </tbody>\n",
       "</table>\n",
       "<p>99441 rows × 2 columns</p>\n",
       "</div>"
      ],
      "text/plain": [
       "               customer_city customer_state\n",
       "0                     franca             SP\n",
       "1      sao bernardo do campo             SP\n",
       "2                  sao paulo             SP\n",
       "3            mogi das cruzes             SP\n",
       "4                   campinas             SP\n",
       "...                      ...            ...\n",
       "99436              sao paulo             SP\n",
       "99437        taboao da serra             SP\n",
       "99438              fortaleza             CE\n",
       "99439                 canoas             RS\n",
       "99440                  cotia             SP\n",
       "\n",
       "[99441 rows x 2 columns]"
      ]
     },
     "execution_count": 125,
     "metadata": {},
     "output_type": "execute_result"
    }
   ],
   "source": [
    "df.get(['customer_city','customer_state'])"
   ]
  },
  {
   "cell_type": "code",
   "execution_count": null,
   "id": "ca3b1036",
   "metadata": {},
   "outputs": [],
   "source": []
  }
 ],
 "metadata": {
  "kernelspec": {
   "display_name": "Python 3.10.6 64-bit",
   "language": "python",
   "name": "python3"
  },
  "language_info": {
   "codemirror_mode": {
    "name": "ipython",
    "version": 3
   },
   "file_extension": ".py",
   "mimetype": "text/x-python",
   "name": "python",
   "nbconvert_exporter": "python",
   "pygments_lexer": "ipython3",
   "version": "3.10.6"
  },
  "vscode": {
   "interpreter": {
    "hash": "5487de38e2e0a335047da69e28171b9e38623563345f6edb70781a03cfa7e2f6"
   }
  }
 },
 "nbformat": 4,
 "nbformat_minor": 5
}
